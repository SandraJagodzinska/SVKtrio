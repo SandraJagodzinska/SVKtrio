{
  "cells": [
    {
      "cell_type": "markdown",
      "metadata": {
        "id": "view-in-github",
        "colab_type": "text"
      },
      "source": [
        "<a href=\"https://colab.research.google.com/github/SandraJagodzinska/SVKtrio/blob/KA/Demo-Polyglot.ipynb\" target=\"_parent\"><img src=\"https://colab.research.google.com/assets/colab-badge.svg\" alt=\"Open In Colab\"/></a>"
      ]
    },
    {
      "cell_type": "markdown",
      "metadata": {
        "id": "fPBDug64bXTM"
      },
      "source": [
        "# Démonstration"
      ]
    },
    {
      "cell_type": "markdown",
      "metadata": {
        "id": "IuvdrUt8beTc"
      },
      "source": [
        "Installation des modules"
      ]
    },
    {
      "cell_type": "code",
      "execution_count": 2,
      "metadata": {
        "colab": {
          "base_uri": "https://localhost:8080/"
        },
        "id": "UWpcbkujAVxh",
        "outputId": "38907341-326c-4a0a-8148-0d7399c77e67"
      },
      "outputs": [
        {
          "output_type": "stream",
          "name": "stdout",
          "text": [
            "Collecting polyglot\n",
            "  Downloading polyglot-16.7.4.tar.gz (126 kB)\n",
            "\u001b[?25l     \u001b[90m━━━━━━━━━━━━━━━━━━━━━━━━━━━━━━━━━━━━━━━━\u001b[0m \u001b[32m0.0/126.3 kB\u001b[0m \u001b[31m?\u001b[0m eta \u001b[36m-:--:--\u001b[0m\r\u001b[2K     \u001b[91m━━━━━━━━━━━━━━━━━━━━━━━━━━━━━\u001b[0m\u001b[90m╺\u001b[0m\u001b[90m━━━━━━━━━━\u001b[0m \u001b[32m92.2/126.3 kB\u001b[0m \u001b[31m2.8 MB/s\u001b[0m eta \u001b[36m0:00:01\u001b[0m\r\u001b[2K     \u001b[90m━━━━━━━━━━━━━━━━━━━━━━━━━━━━━━━━━━━━━━━\u001b[0m \u001b[32m126.3/126.3 kB\u001b[0m \u001b[31m2.8 MB/s\u001b[0m eta \u001b[36m0:00:00\u001b[0m\n",
            "\u001b[?25h  Preparing metadata (setup.py) ... \u001b[?25l\u001b[?25hdone\n",
            "Building wheels for collected packages: polyglot\n",
            "  Building wheel for polyglot (setup.py) ... \u001b[?25l\u001b[?25hdone\n",
            "  Created wheel for polyglot: filename=polyglot-16.7.4-py2.py3-none-any.whl size=52562 sha256=c6c4b47334345ab6950343c87662a8ef17ea03fb4c68a7c13adffe89e743af8f\n",
            "  Stored in directory: /root/.cache/pip/wheels/aa/92/4a/b172589446ba537db3bdb9a1f2204f27fe71217981c14ac368\n",
            "Successfully built polyglot\n",
            "Installing collected packages: polyglot\n",
            "Successfully installed polyglot-16.7.4\n"
          ]
        }
      ],
      "source": [
        "!pip install polyglot\n"
      ]
    },
    {
      "cell_type": "code",
      "execution_count": 3,
      "metadata": {
        "colab": {
          "base_uri": "https://localhost:8080/"
        },
        "id": "CzfJjpIyA55w",
        "outputId": "2b19fab7-722d-4606-ab2f-fe33a5e29183"
      },
      "outputs": [
        {
          "output_type": "stream",
          "name": "stdout",
          "text": [
            "Collecting PyICU\n",
            "  Downloading PyICU-2.11.tar.gz (257 kB)\n",
            "\u001b[?25l     \u001b[90m━━━━━━━━━━━━━━━━━━━━━━━━━━━━━━━━━━━━━━━━\u001b[0m \u001b[32m0.0/257.9 kB\u001b[0m \u001b[31m?\u001b[0m eta \u001b[36m-:--:--\u001b[0m\r\u001b[2K     \u001b[91m━━━━━━━━━━━━━━━━━━━━━━━━━━━━━━\u001b[0m\u001b[91m╸\u001b[0m\u001b[90m━━━━━━━━\u001b[0m \u001b[32m204.8/257.9 kB\u001b[0m \u001b[31m6.2 MB/s\u001b[0m eta \u001b[36m0:00:01\u001b[0m\r\u001b[2K     \u001b[90m━━━━━━━━━━━━━━━━━━━━━━━━━━━━━━━━━━━━━━━\u001b[0m \u001b[32m257.9/257.9 kB\u001b[0m \u001b[31m5.7 MB/s\u001b[0m eta \u001b[36m0:00:00\u001b[0m\n",
            "\u001b[?25h  Installing build dependencies ... \u001b[?25l\u001b[?25hdone\n",
            "  Getting requirements to build wheel ... \u001b[?25l\u001b[?25hdone\n",
            "  Preparing metadata (pyproject.toml) ... \u001b[?25l\u001b[?25hdone\n",
            "Building wheels for collected packages: PyICU\n",
            "  Building wheel for PyICU (pyproject.toml) ... \u001b[?25l\u001b[?25hdone\n",
            "  Created wheel for PyICU: filename=PyICU-2.11-cp310-cp310-linux_x86_64.whl size=1742566 sha256=79806d6e0f77e5fdd29381cfec63b13eb9dce3f8973501ddd7b8a5a05970570a\n",
            "  Stored in directory: /root/.cache/pip/wheels/67/c3/00/2176cc05d3ea22935a9c78f1034b1a3e3697ef11ffb5cbe2f5\n",
            "Successfully built PyICU\n",
            "Installing collected packages: PyICU\n",
            "Successfully installed PyICU-2.11\n"
          ]
        }
      ],
      "source": [
        "!pip install PyICU"
      ]
    },
    {
      "cell_type": "code",
      "execution_count": 4,
      "metadata": {
        "colab": {
          "base_uri": "https://localhost:8080/"
        },
        "id": "iyUubpx7BXT8",
        "outputId": "8a1e9488-c504-45a5-e377-710a2a75d558"
      },
      "outputs": [
        {
          "output_type": "stream",
          "name": "stdout",
          "text": [
            "Collecting pycld2\n",
            "  Downloading pycld2-0.41.tar.gz (41.4 MB)\n",
            "\u001b[2K     \u001b[90m━━━━━━━━━━━━━━━━━━━━━━━━━━━━━━━━━━━━━━━━\u001b[0m \u001b[32m41.4/41.4 MB\u001b[0m \u001b[31m31.6 MB/s\u001b[0m eta \u001b[36m0:00:00\u001b[0m\n",
            "\u001b[?25h  Preparing metadata (setup.py) ... \u001b[?25l\u001b[?25hdone\n",
            "Building wheels for collected packages: pycld2\n",
            "  Building wheel for pycld2 (setup.py) ... \u001b[?25l\u001b[?25hdone\n",
            "  Created wheel for pycld2: filename=pycld2-0.41-cp310-cp310-linux_x86_64.whl size=9904037 sha256=4337fdb0c5b05e3b2c411d7583c0eb5c252498a322c35153638a6ac724915f46\n",
            "  Stored in directory: /root/.cache/pip/wheels/be/81/31/240c89c845e008a93d98542325270007de595bfd356eb0b06c\n",
            "Successfully built pycld2\n",
            "Installing collected packages: pycld2\n",
            "Successfully installed pycld2-0.41\n"
          ]
        }
      ],
      "source": [
        "!pip install pycld2\n"
      ]
    },
    {
      "cell_type": "code",
      "execution_count": 5,
      "metadata": {
        "colab": {
          "base_uri": "https://localhost:8080/"
        },
        "id": "EEaFLVczB3Gm",
        "outputId": "e8951cba-cd0f-4af4-9a44-8f398e0964e0"
      },
      "outputs": [
        {
          "output_type": "stream",
          "name": "stdout",
          "text": [
            "Collecting morfessor\n",
            "  Downloading Morfessor-2.0.6-py3-none-any.whl (35 kB)\n",
            "Installing collected packages: morfessor\n",
            "Successfully installed morfessor-2.0.6\n"
          ]
        }
      ],
      "source": [
        "!pip install morfessor\n"
      ]
    },
    {
      "cell_type": "markdown",
      "metadata": {
        "id": "_kDV4MGkbiwD"
      },
      "source": [
        "## Détection de la langue"
      ]
    },
    {
      "cell_type": "code",
      "source": [
        "import polyglot\n",
        "from polyglot.text import Text, Word\n",
        "\n",
        "texte = Text(\".جامعة زيد بعيدة عن بيته. يذهب إليها صباحا مبكرا بالسيارة و يدرس في اليوم ست حصص  ثم يرجع إلى بيته بعد صلاة العصر ويستريح ثم يراجع دروسه\")\n",
        "print(\"Language Detected: Code={}, Name={}\\n\".format(\n",
        "    texte.language.code, texte.language.name))\n"
      ],
      "metadata": {
        "colab": {
          "base_uri": "https://localhost:8080/"
        },
        "id": "Ur7jKfaqLUqt",
        "outputId": "461c60ed-6cf0-450a-d589-4c6138ecf0b6"
      },
      "execution_count": 9,
      "outputs": [
        {
          "output_type": "stream",
          "name": "stdout",
          "text": [
            "Language Detected: Code=ar, Name=Arabic\n",
            "\n"
          ]
        }
      ]
    },
    {
      "cell_type": "code",
      "execution_count": 8,
      "metadata": {
        "colab": {
          "base_uri": "https://localhost:8080/"
        },
        "id": "9T-nUDVbBhdw",
        "outputId": "3628b0bc-451c-4963-8ce5-55dfe9bcfc6c"
      },
      "outputs": [
        {
          "output_type": "stream",
          "name": "stderr",
          "text": [
            "WARNING:polyglot.detect.base:Detector is not able to detect the language reliably.\n"
          ]
        },
        {
          "output_type": "stream",
          "name": "stdout",
          "text": [
            "Language Detected: Code=ar, Name=Arabic\n",
            "\n"
          ]
        }
      ],
      "source": [
        "\"\"\"\n",
        "import polyglot\n",
        "from polyglot.text import Text, Word\n",
        "\n",
        "texte = Text(\".جَامِعَةُ زَيْدٍ بَعِيدَةٌ عَنْ بَيْتِهِ. يَذْهَبُ إِلَيْهَا صَبَاحًا مُبَكِّرًا بِالسَّيَّارَةِ وَ يَدْرُسُ فِي اليَوْمِ سِتَّ حِصَصٍ  ثُمَّ يَرْجِعُ إِلَى بَيْتِهِ بَعْدَ صَلَاةِ العَصْرِ وَيَسْتَريحُ ثُمَّ يُرَاجِعُ دُرُوسَهُ\")\n",
        "print(\"Language Detected: Code={}, Name={}\\n\".format(\n",
        "    texte.language.code, texte.language.name))\n",
        "\"\"\""
      ]
    },
    {
      "cell_type": "code",
      "source": [
        "!polyglot download LANG:ar"
      ],
      "metadata": {
        "colab": {
          "base_uri": "https://localhost:8080/"
        },
        "id": "pxeOTmkeSfjd",
        "outputId": "1f5a3c3a-2cc5-4902-ad09-40e11541351e"
      },
      "execution_count": 37,
      "outputs": [
        {
          "output_type": "stream",
          "name": "stdout",
          "text": [
            "[polyglot_data] Downloading collection 'LANG:ar'\n",
            "[polyglot_data]    | \n",
            "[polyglot_data]    | Downloading package sgns2.ar to\n",
            "[polyglot_data]    |     /root/polyglot_data...\n",
            "[polyglot_data]    | Downloading package unipos.ar to\n",
            "[polyglot_data]    |     /root/polyglot_data...\n",
            "[polyglot_data]    | Downloading package ner2.ar to\n",
            "[polyglot_data]    |     /root/polyglot_data...\n",
            "[polyglot_data]    | Downloading package counts2.ar to\n",
            "[polyglot_data]    |     /root/polyglot_data...\n",
            "[polyglot_data]    | Downloading package transliteration2.ar to\n",
            "[polyglot_data]    |     /root/polyglot_data...\n",
            "[polyglot_data]    | Downloading package embeddings2.ar to\n",
            "[polyglot_data]    |     /root/polyglot_data...\n",
            "[polyglot_data]    | Downloading package uniemb.ar to\n",
            "[polyglot_data]    |     /root/polyglot_data...\n",
            "[polyglot_data]    | Downloading package sentiment2.ar to\n",
            "[polyglot_data]    |     /root/polyglot_data...\n",
            "[polyglot_data]    | Downloading package tsne2.ar to\n",
            "[polyglot_data]    |     /root/polyglot_data...\n",
            "[polyglot_data]    | Downloading package morph2.ar to\n",
            "[polyglot_data]    |     /root/polyglot_data...\n",
            "[polyglot_data]    | \n",
            "[polyglot_data]  Done downloading collection LANG:ar\n"
          ]
        }
      ]
    },
    {
      "cell_type": "code",
      "source": [
        "downloader.supported_tasks(lang=\"ar\")\n"
      ],
      "metadata": {
        "colab": {
          "base_uri": "https://localhost:8080/"
        },
        "id": "vuI4ItoJOv51",
        "outputId": "e8bc0f60-f359-414b-8977-147c0571cd31"
      },
      "execution_count": 42,
      "outputs": [
        {
          "output_type": "execute_result",
          "data": {
            "text/plain": [
              "['sgns2',\n",
              " 'unipos',\n",
              " 'ner2',\n",
              " 'counts2',\n",
              " 'transliteration2',\n",
              " 'embeddings2',\n",
              " 'uniemb',\n",
              " 'sentiment2',\n",
              " 'tsne2',\n",
              " 'morph2']"
            ]
          },
          "metadata": {},
          "execution_count": 42
        }
      ]
    },
    {
      "cell_type": "markdown",
      "source": [
        "## Segmentation en phrases."
      ],
      "metadata": {
        "id": "hky9wHvIN27a"
      }
    },
    {
      "cell_type": "code",
      "source": [
        "texte.sentences"
      ],
      "metadata": {
        "colab": {
          "base_uri": "https://localhost:8080/"
        },
        "id": "San6PfIINhGf",
        "outputId": "19f1f26c-35ef-4ccb-9ccd-5ba98e897ef3"
      },
      "execution_count": 11,
      "outputs": [
        {
          "output_type": "execute_result",
          "data": {
            "text/plain": [
              "[Sentence(\".\"),\n",
              " Sentence(\"جامعة زيد بعيدة عن بيته.\"),\n",
              " Sentence(\"يذهب إليها صباحا مبكرا بالسيارة و يدرس في اليوم ست حصص  ثم يرجع إلى بيته بعد صلاة العصر ويستريح ثم يراجع دروسه\")]"
            ]
          },
          "metadata": {},
          "execution_count": 11
        }
      ]
    },
    {
      "cell_type": "markdown",
      "source": [
        "## Tokenisation"
      ],
      "metadata": {
        "id": "mIldmS-wN_YS"
      }
    },
    {
      "cell_type": "code",
      "source": [
        "texte.words\n"
      ],
      "metadata": {
        "colab": {
          "base_uri": "https://localhost:8080/"
        },
        "id": "Mgqds3L9OHG7",
        "outputId": "225e4d83-e6f0-40d8-bbad-c7e6024e5488"
      },
      "execution_count": 20,
      "outputs": [
        {
          "output_type": "stream",
          "name": "stdout",
          "text": [
            "['.', 'جامعة', 'زيد', 'بعيدة', 'عن', 'بيته', '.', 'يذهب', 'إليها', 'صباحا', 'مبكرا', 'بالسيارة', 'و', 'يدرس', 'في', 'اليوم', 'ست', 'حصص', 'ثم', 'يرجع', 'إلى', 'بيته', 'بعد', 'صلاة', 'العصر', 'ويستريح', 'ثم', 'يراجع', 'دروسه']\n"
          ]
        }
      ]
    },
    {
      "cell_type": "markdown",
      "source": [
        "## Entités nommées"
      ],
      "metadata": {
        "id": "KgvcmE-yVTZN"
      }
    },
    {
      "cell_type": "code",
      "source": [
        "texte = Text(\".جامعة زيد بعيدة عن بيته. يذهب إليها صباحا مبكرا بالسيارة و يدرس في اليوم ست حصص  ثم يرجع إلى بيته بعد صلاة العصر ويستريح ثم يراجع دروسه\")\n",
        "texte.entities\n"
      ],
      "metadata": {
        "id": "fCWRr3_nTXfI"
      },
      "execution_count": null,
      "outputs": []
    },
    {
      "cell_type": "markdown",
      "source": [
        "## Translitération"
      ],
      "metadata": {
        "id": "boIrtxSZVQss"
      }
    },
    {
      "cell_type": "code",
      "source": [
        " texteEn= Text(\"Good morning !\")\n",
        "\n",
        "for x in texteEn.transliterate(\"ar\"):\n",
        "  print(x)\n"
      ],
      "metadata": {
        "colab": {
          "base_uri": "https://localhost:8080/"
        },
        "id": "5qUzXZzCUS91",
        "outputId": "f3abcc3b-3a65-4b34-fc43-b60221ba650a"
      },
      "execution_count": 58,
      "outputs": [
        {
          "output_type": "stream",
          "name": "stdout",
          "text": [
            "غوود\n",
            "مورنينغ\n",
            "\n"
          ]
        }
      ]
    }
  ],
  "metadata": {
    "colab": {
      "provenance": [],
      "authorship_tag": "ABX9TyPtEvlE7fbWKrRP1TNTxm0R",
      "include_colab_link": true
    },
    "kernelspec": {
      "display_name": "Python 3",
      "name": "python3"
    },
    "language_info": {
      "name": "python"
    }
  },
  "nbformat": 4,
  "nbformat_minor": 0
}