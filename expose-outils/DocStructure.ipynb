{
  "cells": [
    {
      "cell_type": "markdown",
      "metadata": {
        "id": "view-in-github",
        "colab_type": "text"
      },
      "source": [
        "<a href=\"https://colab.research.google.com/github/SandraJagodzinska/SVKtrio/blob/KA/DocStructure.ipynb\" target=\"_parent\"><img src=\"https://colab.research.google.com/assets/colab-badge.svg\" alt=\"Open In Colab\"/></a>"
      ]
    },
    {
      "cell_type": "markdown",
      "metadata": {
        "id": "fPBDug64bXTM"
      },
      "source": [
        "# Démonstration"
      ]
    },
    {
      "cell_type": "markdown",
      "metadata": {
        "id": "IuvdrUt8beTc"
      },
      "source": [
        "## Installation des modules"
      ]
    },
    {
      "cell_type": "code",
      "execution_count": 1,
      "metadata": {
        "colab": {
          "base_uri": "https://localhost:8080/"
        },
        "id": "UWpcbkujAVxh",
        "outputId": "0149023c-c3aa-417a-c447-96c678d11705"
      },
      "outputs": [
        {
          "output_type": "stream",
          "name": "stdout",
          "text": [
            "Collecting polyglot\n",
            "  Downloading polyglot-16.7.4.tar.gz (126 kB)\n",
            "\u001b[2K     \u001b[90m━━━━━━━━━━━━━━━━━━━━━━━━━━━━━━━━━━━━━━━\u001b[0m \u001b[32m126.3/126.3 kB\u001b[0m \u001b[31m2.5 MB/s\u001b[0m eta \u001b[36m0:00:00\u001b[0m\n",
            "\u001b[?25h  Preparing metadata (setup.py) ... \u001b[?25l\u001b[?25hdone\n",
            "Building wheels for collected packages: polyglot\n",
            "  Building wheel for polyglot (setup.py) ... \u001b[?25l\u001b[?25hdone\n",
            "  Created wheel for polyglot: filename=polyglot-16.7.4-py2.py3-none-any.whl size=52562 sha256=7e85e8a0c7ceba6cbf0589ae71e0d9dd9b098c8bfacc30d4afbbdbfeb6bc9552\n",
            "  Stored in directory: /root/.cache/pip/wheels/aa/92/4a/b172589446ba537db3bdb9a1f2204f27fe71217981c14ac368\n",
            "Successfully built polyglot\n",
            "Installing collected packages: polyglot\n",
            "Successfully installed polyglot-16.7.4\n"
          ]
        }
      ],
      "source": [
        "!pip install polyglot\n"
      ]
    },
    {
      "cell_type": "code",
      "execution_count": 2,
      "metadata": {
        "colab": {
          "base_uri": "https://localhost:8080/"
        },
        "id": "CzfJjpIyA55w",
        "outputId": "9c6acedc-01a9-4a70-ce7f-64641ecb7a30"
      },
      "outputs": [
        {
          "output_type": "stream",
          "name": "stdout",
          "text": [
            "Collecting PyICU\n",
            "  Downloading PyICU-2.11.tar.gz (257 kB)\n",
            "\u001b[2K     \u001b[90m━━━━━━━━━━━━━━━━━━━━━━━━━━━━━━━━━━━━━━━\u001b[0m \u001b[32m257.9/257.9 kB\u001b[0m \u001b[31m3.7 MB/s\u001b[0m eta \u001b[36m0:00:00\u001b[0m\n",
            "\u001b[?25h  Installing build dependencies ... \u001b[?25l\u001b[?25hdone\n",
            "  Getting requirements to build wheel ... \u001b[?25l\u001b[?25hdone\n",
            "  Preparing metadata (pyproject.toml) ... \u001b[?25l\u001b[?25hdone\n",
            "Building wheels for collected packages: PyICU\n",
            "  Building wheel for PyICU (pyproject.toml) ... \u001b[?25l\u001b[?25hdone\n",
            "  Created wheel for PyICU: filename=PyICU-2.11-cp310-cp310-linux_x86_64.whl size=1742566 sha256=4975b27d80ec8d173debcc172016401091eecc9609c82b8e269b53a009f3842a\n",
            "  Stored in directory: /root/.cache/pip/wheels/67/c3/00/2176cc05d3ea22935a9c78f1034b1a3e3697ef11ffb5cbe2f5\n",
            "Successfully built PyICU\n",
            "Installing collected packages: PyICU\n",
            "Successfully installed PyICU-2.11\n"
          ]
        }
      ],
      "source": [
        "!pip install PyICU"
      ]
    },
    {
      "cell_type": "code",
      "execution_count": 3,
      "metadata": {
        "colab": {
          "base_uri": "https://localhost:8080/"
        },
        "id": "iyUubpx7BXT8",
        "outputId": "e8f47f22-66dc-4122-bb91-0e8861e8261f"
      },
      "outputs": [
        {
          "output_type": "stream",
          "name": "stdout",
          "text": [
            "Collecting pycld2\n",
            "  Downloading pycld2-0.41.tar.gz (41.4 MB)\n",
            "\u001b[2K     \u001b[90m━━━━━━━━━━━━━━━━━━━━━━━━━━━━━━━━━━━━━━━━\u001b[0m \u001b[32m41.4/41.4 MB\u001b[0m \u001b[31m27.9 MB/s\u001b[0m eta \u001b[36m0:00:00\u001b[0m\n",
            "\u001b[?25h  Preparing metadata (setup.py) ... \u001b[?25l\u001b[?25hdone\n",
            "Building wheels for collected packages: pycld2\n",
            "  Building wheel for pycld2 (setup.py) ... \u001b[?25l\u001b[?25hdone\n",
            "  Created wheel for pycld2: filename=pycld2-0.41-cp310-cp310-linux_x86_64.whl size=9904072 sha256=f0396bdc39b75f0782392e673cf278ea770018f92eaa68fd016280a24e36e8b9\n",
            "  Stored in directory: /root/.cache/pip/wheels/be/81/31/240c89c845e008a93d98542325270007de595bfd356eb0b06c\n",
            "Successfully built pycld2\n",
            "Installing collected packages: pycld2\n",
            "Successfully installed pycld2-0.41\n"
          ]
        }
      ],
      "source": [
        "!pip install pycld2\n"
      ]
    },
    {
      "cell_type": "code",
      "execution_count": 4,
      "metadata": {
        "colab": {
          "base_uri": "https://localhost:8080/"
        },
        "id": "EEaFLVczB3Gm",
        "outputId": "b035e54e-d811-4de8-97c8-d33880e2845f"
      },
      "outputs": [
        {
          "output_type": "stream",
          "name": "stdout",
          "text": [
            "Collecting morfessor\n",
            "  Downloading Morfessor-2.0.6-py3-none-any.whl (35 kB)\n",
            "Installing collected packages: morfessor\n",
            "Successfully installed morfessor-2.0.6\n"
          ]
        }
      ],
      "source": [
        "!pip install morfessor\n"
      ]
    },
    {
      "cell_type": "markdown",
      "metadata": {
        "id": "_kDV4MGkbiwD"
      },
      "source": [
        "## Détection de la langue"
      ]
    },
    {
      "cell_type": "code",
      "execution_count": 5,
      "metadata": {
        "colab": {
          "base_uri": "https://localhost:8080/"
        },
        "id": "9T-nUDVbBhdw",
        "outputId": "94eaddd0-b050-4a3b-b33b-a4bb096acd1a"
      },
      "outputs": [
        {
          "output_type": "stream",
          "name": "stderr",
          "text": [
            "WARNING:polyglot.detect.base:Detector is not able to detect the language reliably.\n"
          ]
        },
        {
          "output_type": "stream",
          "name": "stdout",
          "text": [
            "Language Detected: Code=ar, Name=Arabic\n",
            "\n"
          ]
        }
      ],
      "source": [
        "import polyglot\n",
        "from polyglot.text import Text, Word\n",
        "\n",
        "texte_voy = Text(\".جَامِعَةُ زَيْدٍ بَعِيدَةٌ عَنْ بَيْتِهِ. يَذْهَبُ إِلَيْهَا صَبَاحًا مُبَكِّرًا بِالسَّيَّارَةِ وَ يَدْرُسُ فِي اليَوْمِ سِتَّ حِصَصٍ. يَرْجِعُ إِلَى بَيْتِهِ بَعْدَ صَلَاةِ العَصْرِ. يَسْتَريحُ ثُمَّ يُرَاجِعُ دُرُوسَهُ\")\n",
        "print(\"Language Detected: Code={}, Name={}\\n\".format(\n",
        "    texte_voy.language.code, texte_voy.language.name))\n"
      ]
    },
    {
      "cell_type": "code",
      "source": [
        "import polyglot\n",
        "from polyglot.text import Text, Word\n",
        "\n",
        "arabe = Text(\"\"\" جامعة زيد بعيدة عن بيته .\n",
        " يذهب إليها صباحا مبكرا بالسيارة.\n",
        "  يدرس في اليوم ست حصص.\n",
        "  يرجع إلى بيته بعد صلاة العصر.\n",
        "   يستريح ثم يراجع دروسه. \"\"\")\n",
        "\n",
        "print(\"Language Detected: Code={}, Name={}\\n\".format(\n",
        "    arabe.language.code, arabe.language.name))\n"
      ],
      "metadata": {
        "colab": {
          "base_uri": "https://localhost:8080/"
        },
        "id": "Ur7jKfaqLUqt",
        "outputId": "c5c175b7-946c-40cd-c111-b64549167c43"
      },
      "execution_count": 6,
      "outputs": [
        {
          "output_type": "stream",
          "name": "stdout",
          "text": [
            "Language Detected: Code=ar, Name=Arabic\n",
            "\n"
          ]
        }
      ]
    },
    {
      "cell_type": "markdown",
      "source": [
        "## Détection des langues avec 'Detector'"
      ],
      "metadata": {
        "id": "8JQJGa522ldL"
      }
    },
    {
      "cell_type": "code",
      "source": [
        "from polyglot.detect import Detector\n",
        "\n",
        "arabic_text = u\"\"\"\n",
        "أفاد مصدر امني في قيادة عمليات صلاح الدين في العراق بأن القوات الامنية تتوقف لليوم\n",
        "الثالث على التوالي عن التقدم الى داخل مدينة تكريت بسبب\n",
        "انتشار قناصي التنظيم الذي يطلق على نفسه اسم \"الدولة الاسلامية\" والعبوات الناسفة\n",
        "والمنازل المفخخة والانتحاريين، فضلا عن ان القوات الامنية تنتظر وصول تعزيزات اضافية.\n",
        "\"\"\"\n",
        "\n",
        "detector = Detector(arabic_text)\n",
        "print(detector.language)"
      ],
      "metadata": {
        "colab": {
          "base_uri": "https://localhost:8080/"
        },
        "id": "2PKi49tG2RrK",
        "outputId": "5b0b0359-9443-4f55-b525-1176c882b09e"
      },
      "execution_count": 7,
      "outputs": [
        {
          "output_type": "stream",
          "name": "stdout",
          "text": [
            "name: Arabic      code: ar       confidence:  99.0 read bytes:   907\n"
          ]
        }
      ]
    },
    {
      "cell_type": "code",
      "source": [
        "from polyglot.detect import Detector\n",
        "\n",
        "mixed_text = u\"\"\" мали бели пас шета парком, а птице певају.\n",
        " كلب أبيض صغير يمشي في الحديقة، والطيور تغني. Wczoraj, kiedy tylko słońce wstało, wyprowadziłam swojego psa i nakarmiłam kota.\n",
        ". بالأمس، بمجرد أن أشرقت الشمس، مشيت كلبي وأطعمت قطتي. \"\"\"\n",
        "\n",
        "for language in Detector(mixed_text).languages:\n",
        "  print(language)\n"
      ],
      "metadata": {
        "colab": {
          "base_uri": "https://localhost:8080/"
        },
        "id": "4LbDC470fi2P",
        "outputId": "9b0c7e9e-ac53-47f0-fb4a-e1c903f96f49"
      },
      "execution_count": 8,
      "outputs": [
        {
          "output_type": "stream",
          "name": "stdout",
          "text": [
            "name: Arabic      code: ar       confidence:  51.0 read bytes:   539\n",
            "name: Polish      code: pl       confidence:  25.0 read bytes:  1332\n",
            "name: Serbian     code: sr       confidence:  22.0 read bytes:   470\n"
          ]
        }
      ]
    },
    {
      "cell_type": "markdown",
      "source": [
        "## Importation des modéles pour les langues"
      ],
      "metadata": {
        "id": "Vvx98dO_IyFL"
      }
    },
    {
      "cell_type": "code",
      "source": [
        "!polyglot download LANG:ar\n",
        "!polyglot download LANG:sr\n",
        "!polyglot download LANG:pl"
      ],
      "metadata": {
        "id": "9ZzcUAq9drNO",
        "colab": {
          "base_uri": "https://localhost:8080/"
        },
        "outputId": "68d41326-2063-4d54-c8db-dc047ae8fce9"
      },
      "execution_count": 9,
      "outputs": [
        {
          "output_type": "stream",
          "name": "stdout",
          "text": [
            "[polyglot_data] Downloading collection 'LANG:ar'\n",
            "[polyglot_data]    | \n",
            "[polyglot_data]    | Downloading package sgns2.ar to\n",
            "[polyglot_data]    |     /root/polyglot_data...\n",
            "[polyglot_data]    | Downloading package unipos.ar to\n",
            "[polyglot_data]    |     /root/polyglot_data...\n",
            "[polyglot_data]    | Downloading package ner2.ar to\n",
            "[polyglot_data]    |     /root/polyglot_data...\n",
            "[polyglot_data]    | Downloading package counts2.ar to\n",
            "[polyglot_data]    |     /root/polyglot_data...\n",
            "[polyglot_data]    | Downloading package transliteration2.ar to\n",
            "[polyglot_data]    |     /root/polyglot_data...\n",
            "[polyglot_data]    | Downloading package embeddings2.ar to\n",
            "[polyglot_data]    |     /root/polyglot_data...\n",
            "[polyglot_data]    | Downloading package uniemb.ar to\n",
            "[polyglot_data]    |     /root/polyglot_data...\n",
            "[polyglot_data]    | Downloading package sentiment2.ar to\n",
            "[polyglot_data]    |     /root/polyglot_data...\n",
            "[polyglot_data]    | Downloading package tsne2.ar to\n",
            "[polyglot_data]    |     /root/polyglot_data...\n",
            "[polyglot_data]    | Downloading package morph2.ar to\n",
            "[polyglot_data]    |     /root/polyglot_data...\n",
            "[polyglot_data]    | \n",
            "[polyglot_data]  Done downloading collection LANG:ar\n",
            "[polyglot_data] Downloading collection 'LANG:sr'\n",
            "[polyglot_data]    | \n",
            "[polyglot_data]    | Downloading package sgns2.sr to\n",
            "[polyglot_data]    |     /root/polyglot_data...\n",
            "[polyglot_data]    | Downloading package unipos.sr to\n",
            "[polyglot_data]    |     /root/polyglot_data...\n",
            "[polyglot_data]    | Downloading package ner2.sr to\n",
            "[polyglot_data]    |     /root/polyglot_data...\n",
            "[polyglot_data]    | Downloading package counts2.sr to\n",
            "[polyglot_data]    |     /root/polyglot_data...\n",
            "[polyglot_data]    | Downloading package transliteration2.sr to\n",
            "[polyglot_data]    |     /root/polyglot_data...\n",
            "[polyglot_data]    | Downloading package embeddings2.sr to\n",
            "[polyglot_data]    |     /root/polyglot_data...\n",
            "[polyglot_data]    | Downloading package uniemb.sr to\n",
            "[polyglot_data]    |     /root/polyglot_data...\n",
            "[polyglot_data]    | Downloading package sentiment2.sr to\n",
            "[polyglot_data]    |     /root/polyglot_data...\n",
            "[polyglot_data]    | Downloading package tsne2.sr to\n",
            "[polyglot_data]    |     /root/polyglot_data...\n",
            "[polyglot_data]    | Downloading package morph2.sr to\n",
            "[polyglot_data]    |     /root/polyglot_data...\n",
            "[polyglot_data]    | \n",
            "[polyglot_data]  Done downloading collection LANG:sr\n",
            "[polyglot_data] Downloading collection 'LANG:pl'\n",
            "[polyglot_data]    | \n",
            "[polyglot_data]    | Downloading package sgns2.pl to\n",
            "[polyglot_data]    |     /root/polyglot_data...\n",
            "[polyglot_data]    | Downloading package unipos.pl to\n",
            "[polyglot_data]    |     /root/polyglot_data...\n",
            "[polyglot_data]    | Downloading package ner2.pl to\n",
            "[polyglot_data]    |     /root/polyglot_data...\n",
            "[polyglot_data]    | Downloading package counts2.pl to\n",
            "[polyglot_data]    |     /root/polyglot_data...\n",
            "[polyglot_data]    | Downloading package transliteration2.pl to\n",
            "[polyglot_data]    |     /root/polyglot_data...\n",
            "[polyglot_data]    | Downloading package embeddings2.pl to\n",
            "[polyglot_data]    |     /root/polyglot_data...\n",
            "[polyglot_data]    | Downloading package uniemb.pl to\n",
            "[polyglot_data]    |     /root/polyglot_data...\n",
            "[polyglot_data]    | Downloading package sentiment2.pl to\n",
            "[polyglot_data]    |     /root/polyglot_data...\n",
            "[polyglot_data]    | Downloading package tsne2.pl to\n",
            "[polyglot_data]    |     /root/polyglot_data...\n",
            "[polyglot_data]    | Downloading package morph2.pl to\n",
            "[polyglot_data]    |     /root/polyglot_data...\n",
            "[polyglot_data]    | \n",
            "[polyglot_data]  Done downloading collection LANG:pl\n"
          ]
        }
      ]
    },
    {
      "cell_type": "markdown",
      "source": [
        "## Segmentation"
      ],
      "metadata": {
        "id": "hky9wHvIN27a"
      }
    },
    {
      "cell_type": "code",
      "source": [
        "serbe = Text(\"мали бели пас шета парком, а птице певају.\")\n",
        "polonais = Text(\"Wczoraj, kiedy tylko słońce wstało, wyprowadziłam swojego psa i nakarmiłam kota.\")\n",
        "\n",
        "print(arabe.sentences)\n",
        "print(serbe.sentences)\n",
        "print(polonais.sentences)"
      ],
      "metadata": {
        "colab": {
          "base_uri": "https://localhost:8080/"
        },
        "id": "San6PfIINhGf",
        "outputId": "61edd97b-738f-47bb-e14e-d8e1344dec94"
      },
      "execution_count": 17,
      "outputs": [
        {
          "output_type": "stream",
          "name": "stdout",
          "text": [
            "[Sentence(\"جامعة زيد بعيدة عن بيته .\"), Sentence(\"يذهب إليها صباحا مبكرا بالسيارة.\"), Sentence(\"يدرس في اليوم ست حصص.\"), Sentence(\"يرجع إلى بيته بعد صلاة العصر.\"), Sentence(\"يستريح ثم يراجع دروسه.\")]\n",
            "[Sentence(\"мали бели пас шета парком, а птице певају.\")]\n",
            "[Sentence(\"Wczoraj, kiedy tylko słońce wstało, wyprowadziłam swojego psa i nakarmiłam kota.\")]\n"
          ]
        }
      ]
    },
    {
      "cell_type": "markdown",
      "source": [
        "## Tokenisation"
      ],
      "metadata": {
        "id": "mIldmS-wN_YS"
      }
    },
    {
      "cell_type": "code",
      "source": [
        "print(arabe.words)\n",
        "print(serbe.words)\n",
        "print(polonais.words)\n"
      ],
      "metadata": {
        "colab": {
          "base_uri": "https://localhost:8080/"
        },
        "id": "Mgqds3L9OHG7",
        "outputId": "21f72159-54db-454a-d6ef-96a8baf67980"
      },
      "execution_count": 18,
      "outputs": [
        {
          "output_type": "stream",
          "name": "stdout",
          "text": [
            "['جامعة', 'زيد', 'بعيدة', 'عن', 'بيته', '.', 'يذهب', 'إليها', 'صباحا', 'مبكرا', 'بالسيارة', '.', 'يدرس', 'في', 'اليوم', 'ست', 'حصص', '.', 'يرجع', 'إلى', 'بيته', 'بعد', 'صلاة', 'العصر', '.', 'يستريح', 'ثم', 'يراجع', 'دروسه', '.']\n",
            "['мали', 'бели', 'пас', 'шета', 'парком', ',', 'а', 'птице', 'певају', '.']\n",
            "['Wczoraj', ',', 'kiedy', 'tylko', 'słońce', 'wstało', ',', 'wyprowadziłam', 'swojego', 'psa', 'i', 'nakarmiłam', 'kota', '.']\n"
          ]
        }
      ]
    },
    {
      "cell_type": "markdown",
      "source": [
        "## Entités nommées"
      ],
      "metadata": {
        "id": "KgvcmE-yVTZN"
      }
    },
    {
      "cell_type": "code",
      "source": [
        "sent_ar = Text(\"\"\"تدرس خديجة في فرنسا.\n",
        " جامعة خديجة في مدينة باريس.\"\"\")\n",
        "sent_ar.entities"
      ],
      "metadata": {
        "id": "uRFWg6KE4_zW",
        "colab": {
          "base_uri": "https://localhost:8080/"
        },
        "outputId": "1dd6e7dd-0e5f-49b3-8b8c-178ee2b0cd2c"
      },
      "execution_count": 13,
      "outputs": [
        {
          "output_type": "execute_result",
          "data": {
            "text/plain": [
              "[I-PER(['خديجة']),\n",
              " I-LOC(['فرنسا']),\n",
              " I-ORG(['جامعة', 'خديجة']),\n",
              " I-LOC(['مدينة', 'باريس'])]"
            ]
          },
          "metadata": {},
          "execution_count": 13
        }
      ]
    },
    {
      "cell_type": "markdown",
      "source": [
        "## Translitération"
      ],
      "metadata": {
        "id": "boIrtxSZVQss"
      }
    },
    {
      "cell_type": "code",
      "source": [
        "texteEn= Text(\"Good morning !\")\n",
        "\n",
        "for x in texteEn.transliterate(\"ar\"):\n",
        "  print(x)\n"
      ],
      "metadata": {
        "id": "5qUzXZzCUS91",
        "colab": {
          "base_uri": "https://localhost:8080/"
        },
        "outputId": "ec1ad862-8084-456f-ef2f-f17857dbab10"
      },
      "execution_count": 14,
      "outputs": [
        {
          "output_type": "stream",
          "name": "stdout",
          "text": [
            "غوود\n",
            "مورنينغ\n",
            "\n"
          ]
        }
      ]
    }
  ],
  "metadata": {
    "colab": {
      "provenance": [],
      "collapsed_sections": [
        "IuvdrUt8beTc",
        "Vvx98dO_IyFL"
      ],
      "authorship_tag": "ABX9TyMSca0d6xINdRInTHjRhMUo",
      "include_colab_link": true
    },
    "kernelspec": {
      "display_name": "Python 3",
      "name": "python3"
    },
    "language_info": {
      "name": "python"
    }
  },
  "nbformat": 4,
  "nbformat_minor": 0
}