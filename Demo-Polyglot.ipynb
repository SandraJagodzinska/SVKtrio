{
  "cells": [
    {
      "cell_type": "markdown",
      "metadata": {
        "id": "view-in-github",
        "colab_type": "text"
      },
      "source": [
        "<a href=\"https://colab.research.google.com/github/SandraJagodzinska/SVKtrio/blob/KA/Demo-Polyglot.ipynb\" target=\"_parent\"><img src=\"https://colab.research.google.com/assets/colab-badge.svg\" alt=\"Open In Colab\"/></a>"
      ]
    },
    {
      "cell_type": "markdown",
      "metadata": {
        "id": "fPBDug64bXTM"
      },
      "source": [
        "# Démonstration"
      ]
    },
    {
      "cell_type": "markdown",
      "metadata": {
        "id": "IuvdrUt8beTc"
      },
      "source": [
        "Installation des modules"
      ]
    },
    {
      "cell_type": "code",
      "execution_count": 2,
      "metadata": {
        "colab": {
          "base_uri": "https://localhost:8080/"
        },
        "id": "UWpcbkujAVxh",
        "outputId": "39d4ea7e-d66f-4ad7-c342-1b86b22c5042"
      },
      "outputs": [
        {
          "output_type": "stream",
          "name": "stdout",
          "text": [
            "Collecting polyglot\n",
            "  Downloading polyglot-16.7.4.tar.gz (126 kB)\n",
            "\u001b[?25l     \u001b[90m━━━━━━━━━━━━━━━━━━━━━━━━━━━━━━━━━━━━━━━━\u001b[0m \u001b[32m0.0/126.3 kB\u001b[0m \u001b[31m?\u001b[0m eta \u001b[36m-:--:--\u001b[0m\r\u001b[2K     \u001b[91m━━━━━━━━━━━━━━━━━━━━━━━━━━━━━━━━━━━━━\u001b[0m\u001b[91m╸\u001b[0m\u001b[90m━\u001b[0m \u001b[32m122.9/126.3 kB\u001b[0m \u001b[31m3.7 MB/s\u001b[0m eta \u001b[36m0:00:01\u001b[0m\r\u001b[2K     \u001b[90m━━━━━━━━━━━━━━━━━━━━━━━━━━━━━━━━━━━━━━━\u001b[0m \u001b[32m126.3/126.3 kB\u001b[0m \u001b[31m2.8 MB/s\u001b[0m eta \u001b[36m0:00:00\u001b[0m\n",
            "\u001b[?25h  Preparing metadata (setup.py) ... \u001b[?25l\u001b[?25hdone\n",
            "Building wheels for collected packages: polyglot\n",
            "  Building wheel for polyglot (setup.py) ... \u001b[?25l\u001b[?25hdone\n",
            "  Created wheel for polyglot: filename=polyglot-16.7.4-py2.py3-none-any.whl size=52562 sha256=22c8580cbba480f3db424edaddb9c96a1cc5d73a3977234e762db3bd45f69283\n",
            "  Stored in directory: /root/.cache/pip/wheels/aa/92/4a/b172589446ba537db3bdb9a1f2204f27fe71217981c14ac368\n",
            "Successfully built polyglot\n",
            "Installing collected packages: polyglot\n",
            "Successfully installed polyglot-16.7.4\n"
          ]
        }
      ],
      "source": [
        "!pip install polyglot\n"
      ]
    },
    {
      "cell_type": "code",
      "execution_count": 3,
      "metadata": {
        "colab": {
          "base_uri": "https://localhost:8080/"
        },
        "id": "CzfJjpIyA55w",
        "outputId": "319e49fe-e2b9-4a21-ee33-b790604d1573"
      },
      "outputs": [
        {
          "output_type": "stream",
          "name": "stdout",
          "text": [
            "Collecting PyICU\n",
            "  Downloading PyICU-2.11.tar.gz (257 kB)\n",
            "\u001b[?25l     \u001b[90m━━━━━━━━━━━━━━━━━━━━━━━━━━━━━━━━━━━━━━━━\u001b[0m \u001b[32m0.0/257.9 kB\u001b[0m \u001b[31m?\u001b[0m eta \u001b[36m-:--:--\u001b[0m\r\u001b[2K     \u001b[91m━━━━━━━━━━━━━━━━━━\u001b[0m\u001b[91m╸\u001b[0m\u001b[90m━━━━━━━━━━━━━━━━━━━━\u001b[0m \u001b[32m122.9/257.9 kB\u001b[0m \u001b[31m3.6 MB/s\u001b[0m eta \u001b[36m0:00:01\u001b[0m\r\u001b[2K     \u001b[90m━━━━━━━━━━━━━━━━━━━━━━━━━━━━━━━━━━━━━━━\u001b[0m \u001b[32m257.9/257.9 kB\u001b[0m \u001b[31m4.8 MB/s\u001b[0m eta \u001b[36m0:00:00\u001b[0m\n",
            "\u001b[?25h  Installing build dependencies ... \u001b[?25l\u001b[?25hdone\n",
            "  Getting requirements to build wheel ... \u001b[?25l\u001b[?25hdone\n",
            "  Preparing metadata (pyproject.toml) ... \u001b[?25l\u001b[?25hdone\n",
            "Building wheels for collected packages: PyICU\n",
            "  Building wheel for PyICU (pyproject.toml) ... \u001b[?25l\u001b[?25hdone\n",
            "  Created wheel for PyICU: filename=PyICU-2.11-cp310-cp310-linux_x86_64.whl size=1742568 sha256=db0ea344222a4fafa00a4743adebc588521527069b7c5a77e35d76ef25172dda\n",
            "  Stored in directory: /root/.cache/pip/wheels/67/c3/00/2176cc05d3ea22935a9c78f1034b1a3e3697ef11ffb5cbe2f5\n",
            "Successfully built PyICU\n",
            "Installing collected packages: PyICU\n",
            "Successfully installed PyICU-2.11\n"
          ]
        }
      ],
      "source": [
        "!pip install PyICU"
      ]
    },
    {
      "cell_type": "code",
      "execution_count": 4,
      "metadata": {
        "colab": {
          "base_uri": "https://localhost:8080/"
        },
        "id": "iyUubpx7BXT8",
        "outputId": "2b58e185-8287-44d8-8066-5f8c0421f006"
      },
      "outputs": [
        {
          "output_type": "stream",
          "name": "stdout",
          "text": [
            "Collecting pycld2\n",
            "  Downloading pycld2-0.41.tar.gz (41.4 MB)\n",
            "\u001b[2K     \u001b[90m━━━━━━━━━━━━━━━━━━━━━━━━━━━━━━━━━━━━━━━━\u001b[0m \u001b[32m41.4/41.4 MB\u001b[0m \u001b[31m13.3 MB/s\u001b[0m eta \u001b[36m0:00:00\u001b[0m\n",
            "\u001b[?25h  Preparing metadata (setup.py) ... \u001b[?25l\u001b[?25hdone\n",
            "Building wheels for collected packages: pycld2\n",
            "  Building wheel for pycld2 (setup.py) ... \u001b[?25l\u001b[?25hdone\n",
            "  Created wheel for pycld2: filename=pycld2-0.41-cp310-cp310-linux_x86_64.whl size=9904064 sha256=76a229e4e413308172867d98aac8e88d22f9df0099d7c7fa3aeafeb0115b900b\n",
            "  Stored in directory: /root/.cache/pip/wheels/be/81/31/240c89c845e008a93d98542325270007de595bfd356eb0b06c\n",
            "Successfully built pycld2\n",
            "Installing collected packages: pycld2\n",
            "Successfully installed pycld2-0.41\n"
          ]
        }
      ],
      "source": [
        "!pip install pycld2\n"
      ]
    },
    {
      "cell_type": "code",
      "execution_count": 5,
      "metadata": {
        "colab": {
          "base_uri": "https://localhost:8080/"
        },
        "id": "EEaFLVczB3Gm",
        "outputId": "cc71ada5-6600-48da-a78a-16d4f914e446"
      },
      "outputs": [
        {
          "output_type": "stream",
          "name": "stdout",
          "text": [
            "Collecting morfessor\n",
            "  Downloading Morfessor-2.0.6-py3-none-any.whl (35 kB)\n",
            "Installing collected packages: morfessor\n",
            "Successfully installed morfessor-2.0.6\n"
          ]
        }
      ],
      "source": [
        "!pip install morfessor\n"
      ]
    },
    {
      "cell_type": "markdown",
      "metadata": {
        "id": "_kDV4MGkbiwD"
      },
      "source": [
        "## Détection de la langue"
      ]
    },
    {
      "cell_type": "code",
      "source": [
        "import polyglot\n",
        "from polyglot.text import Text, Word\n",
        "\n",
        "texte = Text(\".جامعة زيد بعيدة عن بيته. يذهب إليها صباحا مبكرا بالسيارة و يدرس في اليوم ست حصص  ثم يرجع إلى بيته بعد صلاة العصر ويستريح ثم يراجع دروسه\")\n",
        "print(\"Language Detected: Code={}, Name={}\\n\".format(\n",
        "    texte.language.code, texte.language.name))\n"
      ],
      "metadata": {
        "colab": {
          "base_uri": "https://localhost:8080/"
        },
        "id": "Ur7jKfaqLUqt",
        "outputId": "fcd5c35f-dad6-4c23-d9ff-3d678fe15e4a"
      },
      "execution_count": 6,
      "outputs": [
        {
          "output_type": "stream",
          "name": "stdout",
          "text": [
            "Language Detected: Code=ar, Name=Arabic\n",
            "\n"
          ]
        }
      ]
    },
    {
      "cell_type": "code",
      "execution_count": null,
      "metadata": {
        "colab": {
          "base_uri": "https://localhost:8080/"
        },
        "id": "9T-nUDVbBhdw",
        "outputId": "3628b0bc-451c-4963-8ce5-55dfe9bcfc6c"
      },
      "outputs": [
        {
          "output_type": "stream",
          "name": "stderr",
          "text": [
            "WARNING:polyglot.detect.base:Detector is not able to detect the language reliably.\n"
          ]
        },
        {
          "output_type": "stream",
          "name": "stdout",
          "text": [
            "Language Detected: Code=ar, Name=Arabic\n",
            "\n"
          ]
        }
      ],
      "source": [
        "\"\"\"\n",
        "import polyglot\n",
        "from polyglot.text import Text, Word\n",
        "\n",
        "texte = Text(\".جَامِعَةُ زَيْدٍ بَعِيدَةٌ عَنْ بَيْتِهِ. يَذْهَبُ إِلَيْهَا صَبَاحًا مُبَكِّرًا بِالسَّيَّارَةِ وَ يَدْرُسُ فِي اليَوْمِ سِتَّ حِصَصٍ  ثُمَّ يَرْجِعُ إِلَى بَيْتِهِ بَعْدَ صَلَاةِ العَصْرِ وَيَسْتَريحُ ثُمَّ يُرَاجِعُ دُرُوسَهُ\")\n",
        "print(\"Language Detected: Code={}, Name={}\\n\".format(\n",
        "    texte.language.code, texte.language.name))\n",
        "\"\"\""
      ]
    },
    {
      "cell_type": "code",
      "source": [
        "!polyglot download LANG:ar"
      ],
      "metadata": {
        "colab": {
          "base_uri": "https://localhost:8080/"
        },
        "id": "pxeOTmkeSfjd",
        "outputId": "d1fb044b-50ef-4990-c094-804a059407eb"
      },
      "execution_count": 7,
      "outputs": [
        {
          "output_type": "stream",
          "name": "stdout",
          "text": [
            "[polyglot_data] Downloading collection 'LANG:ar'\n",
            "[polyglot_data]    | \n",
            "[polyglot_data]    | Downloading package sgns2.ar to\n",
            "[polyglot_data]    |     /root/polyglot_data...\n",
            "[polyglot_data]    | Downloading package unipos.ar to\n",
            "[polyglot_data]    |     /root/polyglot_data...\n",
            "[polyglot_data]    | Downloading package ner2.ar to\n",
            "[polyglot_data]    |     /root/polyglot_data...\n",
            "[polyglot_data]    | Downloading package counts2.ar to\n",
            "[polyglot_data]    |     /root/polyglot_data...\n",
            "[polyglot_data]    | Downloading package transliteration2.ar to\n",
            "[polyglot_data]    |     /root/polyglot_data...\n",
            "[polyglot_data]    | Downloading package embeddings2.ar to\n",
            "[polyglot_data]    |     /root/polyglot_data...\n",
            "[polyglot_data]    | Downloading package uniemb.ar to\n",
            "[polyglot_data]    |     /root/polyglot_data...\n",
            "[polyglot_data]    | Downloading package sentiment2.ar to\n",
            "[polyglot_data]    |     /root/polyglot_data...\n",
            "[polyglot_data]    | Downloading package tsne2.ar to\n",
            "[polyglot_data]    |     /root/polyglot_data...\n",
            "[polyglot_data]    | Downloading package morph2.ar to\n",
            "[polyglot_data]    |     /root/polyglot_data...\n",
            "[polyglot_data]    | \n",
            "[polyglot_data]  Done downloading collection LANG:ar\n"
          ]
        }
      ]
    },
    {
      "cell_type": "markdown",
      "source": [
        "## Segmentation en phrases."
      ],
      "metadata": {
        "id": "hky9wHvIN27a"
      }
    },
    {
      "cell_type": "code",
      "source": [
        "texte.sentences"
      ],
      "metadata": {
        "colab": {
          "base_uri": "https://localhost:8080/"
        },
        "id": "San6PfIINhGf",
        "outputId": "931a57dc-d840-475d-9094-aed69ae1abbb"
      },
      "execution_count": 10,
      "outputs": [
        {
          "output_type": "execute_result",
          "data": {
            "text/plain": [
              "[Sentence(\".\"),\n",
              " Sentence(\"جامعة زيد بعيدة عن بيته.\"),\n",
              " Sentence(\"يذهب إليها صباحا مبكرا بالسيارة و يدرس في اليوم ست حصص  ثم يرجع إلى بيته بعد صلاة العصر ويستريح ثم يراجع دروسه\")]"
            ]
          },
          "metadata": {},
          "execution_count": 10
        }
      ]
    },
    {
      "cell_type": "markdown",
      "source": [
        "## Tokenisation"
      ],
      "metadata": {
        "id": "mIldmS-wN_YS"
      }
    },
    {
      "cell_type": "code",
      "source": [
        "texte.words\n"
      ],
      "metadata": {
        "colab": {
          "base_uri": "https://localhost:8080/"
        },
        "id": "Mgqds3L9OHG7",
        "outputId": "befa6411-5eea-46be-fac9-1170acdc67a4"
      },
      "execution_count": 11,
      "outputs": [
        {
          "output_type": "execute_result",
          "data": {
            "text/plain": [
              "WordList(['.', 'جامعة', 'زيد', 'بعيدة', 'عن', 'بيته', '.', 'يذهب', 'إليها', 'صباحا', 'مبكرا', 'بالسيارة', 'و', 'يدرس', 'في', 'اليوم', 'ست', 'حصص', 'ثم', 'يرجع', 'إلى', 'بيته', 'بعد', 'صلاة', 'العصر', 'ويستريح', 'ثم', 'يراجع', 'دروسه'])"
            ]
          },
          "metadata": {},
          "execution_count": 11
        }
      ]
    },
    {
      "cell_type": "markdown",
      "source": [
        "## Entités nommées"
      ],
      "metadata": {
        "id": "KgvcmE-yVTZN"
      }
    },
    {
      "cell_type": "code",
      "source": [
        "texte = Text(\".جامعة زيد بعيدة عن بيته. يذهب إليها صباحا مبكرا بالسيارة و يدرس في اليوم ست حصص  ثم يرجع إلى بيته بعد صلاة العصر ويستريح ثم يراجع دروسه\")\n",
        "texte.entities\n"
      ],
      "metadata": {
        "id": "fCWRr3_nTXfI",
        "outputId": "4488260d-e859-42b7-f9f2-89de08fe742f",
        "colab": {
          "base_uri": "https://localhost:8080/"
        }
      },
      "execution_count": 12,
      "outputs": [
        {
          "output_type": "execute_result",
          "data": {
            "text/plain": [
              "[I-ORG(['جامعة', 'زيد'])]"
            ]
          },
          "metadata": {},
          "execution_count": 12
        }
      ]
    },
    {
      "cell_type": "markdown",
      "source": [
        "## Translitération"
      ],
      "metadata": {
        "id": "boIrtxSZVQss"
      }
    },
    {
      "cell_type": "code",
      "source": [
        " texteEn= Text(\"Good morning !\")\n",
        "\n",
        "for x in texteEn.transliterate(\"ar\"):\n",
        "  print(x)\n"
      ],
      "metadata": {
        "colab": {
          "base_uri": "https://localhost:8080/"
        },
        "id": "5qUzXZzCUS91",
        "outputId": "2ce2ed32-1b94-43be-d9e5-369653dc893b"
      },
      "execution_count": 13,
      "outputs": [
        {
          "output_type": "stream",
          "name": "stdout",
          "text": [
            "غوود\n",
            "مورنينغ\n",
            "\n"
          ]
        }
      ]
    }
  ],
  "metadata": {
    "colab": {
      "provenance": [],
      "authorship_tag": "ABX9TyNLRul3sqvtJw5st1DdDEzz",
      "include_colab_link": true
    },
    "kernelspec": {
      "display_name": "Python 3",
      "name": "python3"
    },
    "language_info": {
      "name": "python"
    }
  },
  "nbformat": 4,
  "nbformat_minor": 0
}